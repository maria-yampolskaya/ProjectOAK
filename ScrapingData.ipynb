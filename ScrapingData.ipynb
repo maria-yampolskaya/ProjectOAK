{
 "cells": [
  {
   "cell_type": "code",
   "execution_count": 86,
   "metadata": {},
   "outputs": [],
   "source": [
    "## manipulate stuff from internet\n",
    "import requests\n",
    "import bs4\n",
    "\n",
    "## manipulate local files\n",
    "import shutil\n",
    "import os\n",
    "\n",
    "## for converting strings properly\n",
    "import string\n",
    "\n",
    "## for timing info\n",
    "import time"
   ]
  },
  {
   "cell_type": "code",
   "execution_count": 78,
   "metadata": {},
   "outputs": [],
   "source": [
    "SAFEWORDS = ['Dream', 'HOME', 'Spr', '20th Anniversary', ' s', 'OD']\n",
    "def has_safeword(s):\n",
    "    '''returns whether s satisfies the \"has a safeword\" requirement.'''\n",
    "    for i in SAFEWORDS:\n",
    "        if i in s: return True\n",
    "    if 'Café Mix' in s:\n",
    "        if 'guest' in s or 'staff' in s: return True\n",
    "    return False\n",
    "    \n",
    "def is_probably_image_of_poke(filename, pokename, pokenumber):\n",
    "    '''returns whether filename probably represents a decent image of the pokemon or not.'''\n",
    "    N = str(pokenumber).zfill(3)  #zfill(3) makes leading 0s until len(string)==3.\n",
    "    Fname = filename.replace('_', ' ')\n",
    "    if (Fname[:3]==N) and (Fname[3]!=' '): return True\n",
    "    \n",
    "    P = string.capwords(pokename)\n",
    "    if ((N in Fname) or (P in Fname)) and has_safeword(Fname): return True\n",
    "    \n",
    "    return False\n",
    "\n",
    "def local_file(name, folder, i=0):\n",
    "    '''returns name for local file. e.g. folder/000-name'''\n",
    "    return os.path.join(folder, str(i).zfill(3)+'-'+name)\n",
    "\n",
    "def requests_get_SAFE(url, valid_codes=[200,], **kwargs):\n",
    "    '''returns requests.get(url, **kwargs). Also asserts that status code is in valid_codes(==[200,] by default).'''\n",
    "    r = requests.get(url, **kwargs)\n",
    "    assert (r.status_code in valid_codes), \\\n",
    "            'Bad status_code, got '+str(r.status_code)+' but expected value in list'+str(valid_codes)\n",
    "    return r"
   ]
  },
  {
   "cell_type": "code",
   "execution_count": null,
   "metadata": {},
   "outputs": [],
   "source": [
    "## constants ##\n",
    "DATASET_DIR = 'dataset/scraped/'  #location for data to go to, on local machine.\n",
    "\n",
    "PARSER      = 'html.parser'\n",
    "BASE_URL    = 'https://archives.bulbagarden.net'\n",
    "ARCHIVE_URL = BASE_URL + '/wiki/Category:'\n",
    "FILE_URL    = BASE_URL + '/wiki/File:'\n",
    "L_PREFIX    = len('/wiki/File:')\n",
    "\n",
    "pokemon     = 'Jirachi' #which poke to get images for.\n",
    "pokenumber  = 385       #pokemon's pokedex number\n",
    "\n",
    "def download_images(pokemon, pokenumber, filepath=None):\n",
    "    '''downloads images of pokemon from bulbapedia! filepath defaults to os.path.join(DATASET_DIR, pokemon).'''\n",
    "    ## set up local stuff ##\n",
    "    filepath  = filepath if filepath is not None else os.path.join(DATASET_DIR, pokemon)\n",
    "    if not os.path.exists(filepath):\n",
    "        os.mkdir(filepath)\n",
    "    ## begin getting images ##\n",
    "    pics_url  = string.capwords(ARCHIVE_URL + pokemon).replace(' ', '_')\n",
    "    pics_page = requests_get_SAFE(pics_url) #page with many images on it. e.g. .../wiki/Category:Jirachi\n",
    "    pics_soup = bs4.BeautifulSoup(pics_page.content, PARSER)\n",
    "    picnames  = [x.get('href')[L_PREFIX:] for x in pics_soup.find_all('a', class_='image')]\n",
    "    picnames_and_nums = [picnames[i], i for i in range(len(picnames)) if is_probably_image_of_poke(picnames[i], pokemon, pokenumber)]\n",
    "    for picname, picnum in picnames_and_nums:\n",
    "        pic_url = FILE_URL + picname\n",
    "        pic_page = requests_get_SAFE(pic_url)\n",
    "        pic_soup = bs4.BeautifulSoup(pic_page.content, PARSER)\n",
    "        img_url = 'https:'+pic_soup.find('a', class_='internal').get('href')\n",
    "        r = requests_get_SAFE(img_url, stream=True)\n",
    "        with open(local_file(picname, filepath, picnum), 'wb') as f:\n",
    "            r.raw.decode_content = True\n",
    "            shutil.copyfileobj(r.raw, f)"
   ]
  },
  {
   "cell_type": "code",
   "execution_count": null,
   "metadata": {},
   "outputs": [],
   "source": []
  }
 ],
 "metadata": {
  "kernelspec": {
   "display_name": "Python 3",
   "language": "python",
   "name": "python3"
  },
  "language_info": {
   "codemirror_mode": {
    "name": "ipython",
    "version": 3
   },
   "file_extension": ".py",
   "mimetype": "text/x-python",
   "name": "python",
   "nbconvert_exporter": "python",
   "pygments_lexer": "ipython3",
   "version": "3.7.6"
  }
 },
 "nbformat": 4,
 "nbformat_minor": 4
}
