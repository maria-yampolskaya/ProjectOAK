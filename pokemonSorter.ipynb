{
 "cells": [
  {
   "cell_type": "code",
   "execution_count": 3,
   "metadata": {},
   "outputs": [],
   "source": [
    "# A small program to sort Pokemon images into folders according to type\n",
    "\n",
    "import shutil \n",
    "import csv\n",
    "import glob\n",
    "\n",
    "with open(r'C:\\\\Users\\maria\\Documents\\Academics\\Machine Learning\\pokemondata\\pokemon.csv', newline='') as csvfile:\n",
    "    reader = csv.DictReader(csvfile)\n",
    "    for row in reader:\n",
    "#         print(row['Name'], row['Type1'])\n",
    "        for file in glob.glob(\n",
    "            r'C:\\\\Users\\maria\\Documents\\Academics\\Machine Learning\\pokemondata\\images\\image_jpgs\\%s.*'\n",
    "            %row['Name']):\n",
    "#             print(file)\n",
    "            shutil.copy(file,\n",
    "                        r'C:\\\\Users\\maria\\Documents\\Academics\\Machine Learning\\pokemondata\\images\\sorted1\\%s'\n",
    "                        %row['Type1'])\n",
    "#             if row['Type2'] != '':\n",
    "#                 shutil.copy(file,\n",
    "#                         r'C:\\\\Users\\maria\\Documents\\Academics\\Machine Learning\\pokemondata\\images\\sorted2\\%s'\n",
    "#                         %row['Type2'])\n"
   ]
  },
  {
   "cell_type": "code",
   "execution_count": null,
   "metadata": {},
   "outputs": [],
   "source": []
  }
 ],
 "metadata": {
  "kernelspec": {
   "display_name": "Python 3",
   "language": "python",
   "name": "python3"
  },
  "language_info": {
   "codemirror_mode": {
    "name": "ipython",
    "version": 3
   },
   "file_extension": ".py",
   "mimetype": "text/x-python",
   "name": "python",
   "nbconvert_exporter": "python",
   "pygments_lexer": "ipython3",
   "version": "3.7.9"
  }
 },
 "nbformat": 4,
 "nbformat_minor": 4
}
