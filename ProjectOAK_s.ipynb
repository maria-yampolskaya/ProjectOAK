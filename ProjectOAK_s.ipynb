{
 "cells": [
  {
   "cell_type": "code",
   "execution_count": 1,
   "metadata": {
    "id": "Vn4Zg3rOc6-0"
   },
   "outputs": [],
   "source": [
    "import numpy as np\n",
    "import matplotlib.pyplot as plt\n",
    "import os\n",
    "import glob\n",
    "\n",
    "import matplotlib.image as mpimg #for image reading\n",
    "import csv                       #for csv reading\n",
    "from matplotlib import colors\n",
    "\n",
    "try:\n",
    "    import QOL.plots as pqol #custom plotting stuff for Sam\n",
    "    pqol.fixfigsize((1,1))\n",
    "    pqol.scale_fonts((2,2))\n",
    "except:\n",
    "    print('pqol not loaded, defaulting to matplotlib.pyplot.')\n",
    "    pqol=plt\n",
    "\n",
    "## Pokemon constants:\n",
    "NTYPES = 18\n",
    "\n",
    "#enter file locations here!\n",
    "CSVFILENAME  = 'dataset/pokemon.csv'\n",
    "IMAGESFOLDER = 'dataset/images/image_jpgs' #folder where images from jpg-converted dataset are stored."
   ]
  },
  {
   "cell_type": "code",
   "execution_count": 2,
   "metadata": {},
   "outputs": [],
   "source": [
    "## get data from csv file\n",
    "with open(CSVFILENAME) as csvfileobj:\n",
    "    csvreader = csv.reader(csvfileobj)\n",
    "    csvdata = [row for row in csvreader]"
   ]
  },
  {
   "cell_type": "code",
   "execution_count": 3,
   "metadata": {},
   "outputs": [
    {
     "name": "stdout",
     "output_type": "stream",
     "text": [
      ">>>... 1 : Dark\n",
      ">|>... [['Bug' 'Dragon']\n",
      " ['Grass' 'Flying']] \n",
      " [0 2 9 7]\n",
      "|||... {0: 'Bug', 1: 'Dark', 2: 'Dragon', 3: 'Electric', 4: 'Fairy', 5: 'Fighting', 6: 'Fire', 7: 'Flying', 8: 'Ghost', 9: 'Grass', 10: 'Ground', 11: 'Ice', 12: 'Normal', 13: 'Poison', 14: 'Psychic', 15: 'Rock', 16: 'Steel', 17: 'Water', 18: 'None'}\n"
     ]
    }
   ],
   "source": [
    "## pad single-typed pokemon with a second type ('None')\n",
    "pad = 'None'\n",
    "paddata = np.array([row if len(row)==3 else row+[pad] for row in csvdata])\n",
    "pokedata = paddata[1:] #pokemon data without header\n",
    "\n",
    "## definitions for convenience (i.e. possibly useful definitions)\n",
    "alltypes = np.sort(np.unique(paddata[1:, 1:3]))\n",
    "alltypes = np.append(alltypes[alltypes!=pad], [pad]) #put pad at end of list.\n",
    "IDXTYPE = {alltypes[i]:i for i in range(len(alltypes))} #dict with keys type, vals idx\n",
    "TYPEIDX = {i:alltypes[i] for i in range(len(alltypes))} #dict with keys idx, vals type\n",
    "def i_to_type(indices): return np.vectorize(lambda i: TYPEIDX[i])(indices)\n",
    "def type_to_i(types):   return np.vectorize(lambda t: IDXTYPE[t])(types)\n",
    "def onehot_to_type(onehot, eps=1e-8): return i_to_type(np.where(onehot>eps)[-1])\n",
    "def onehot_to_i(onehot, eps=1e-8):    return np.where(onehot>eps)[-1]\n",
    "ilabels = np.array([[IDXTYPE[row[1]],IDXTYPE[row[2]]] for row in pokedata])\n",
    "#idxdata = np.array([[row[0], IDXTYPE[row[1]], IDXTYPE[row[2]]] for row in pokedata])\n",
    "\n",
    "#for example:\n",
    "print('>>>...',IDXTYPE['Dark'],\":\", TYPEIDX[1])\n",
    "print('>|>...',i_to_type([[0,2],[9,7]]),\"\\n\",type_to_i(['Bug','Dragon','Grass','Flying']))\n",
    "print('|||...',TYPEIDX)"
   ]
  },
  {
   "cell_type": "markdown",
   "metadata": {},
   "source": [
    "## Get all the images of pokemon!\n",
    "\n",
    "See ImageProcessing.ipynb for more details. Below is copied from the last cell of that notebook."
   ]
  },
  {
   "cell_type": "code",
   "execution_count": 4,
   "metadata": {},
   "outputs": [],
   "source": [
    "def get_image(pokename, folder=IMAGESFOLDER, ext='.jpg'):\n",
    "    '''returns image of pokemon named <pokename>.'''\n",
    "    #should check if filename is abspath and ignore folder if it is.\n",
    "    return mpimg.imread(os.path.join(folder, pokename+ext))\n",
    "\n",
    "def get_image_and_poke(filename, folder=IMAGESFOLDER):\n",
    "    '''returns [imagedata, pokemonname]. e.g. filename='squirtle.png' -> returns [image, 'squirtle'].'''\n",
    "    name, ext = filename.split('.')\n",
    "    ext = '.' + ext\n",
    "    return [get_image(name, folder=folder, ext=ext), name]\n",
    "\n",
    "def get_all_images(folder):\n",
    "    '''returns dict of items pokemon:image. e.g. result['squirtle'] = image of squirtle.'''\n",
    "    allimagenames = os.listdir(folder)\n",
    "    #should include some line which skips non-images here. (not needed for this data though.)\n",
    "    temp = [get_image_and_poke(name, folder=folder) for name in allimagenames]\n",
    "    allimages = {t[1]: t[0] for t in temp}\n",
    "    return allimages\n",
    "    \n",
    "allimages = get_all_images(IMAGESFOLDER) #this now has all the jpg images in it! hurray!"
   ]
  },
  {
   "cell_type": "code",
   "execution_count": 5,
   "metadata": {},
   "outputs": [
    {
     "name": "stdout",
     "output_type": "stream",
     "text": [
      "shape of images: (120, 120, 3)\n"
     ]
    }
   ],
   "source": [
    "IMAGESHAPE = allimages[next(iter(allimages))].shape #next(iter(dict)) gets first key in dict.\n",
    "print(\"shape of images:\",IMAGESHAPE)"
   ]
  },
  {
   "cell_type": "markdown",
   "metadata": {},
   "source": [
    "### put pokemon images in order"
   ]
  },
  {
   "cell_type": "code",
   "execution_count": 6,
   "metadata": {},
   "outputs": [
    {
     "name": "stdout",
     "output_type": "stream",
     "text": [
      "shape of image list: (809, 120, 120, 3)\n"
     ]
    }
   ],
   "source": [
    "orderedimages = np.array([allimages[pokemon] for pokemon in pokedata[:,0]])\n",
    "print(\"shape of image list:\", orderedimages.shape)"
   ]
  },
  {
   "cell_type": "markdown",
   "metadata": {},
   "source": [
    "#### function for checking data is loaded & ordered properly:"
   ]
  },
  {
   "cell_type": "code",
   "execution_count": 7,
   "metadata": {},
   "outputs": [],
   "source": [
    "def inspect_poke(number, images=None, labels=None, pokedata=pokedata, pokenumber=True, showname=True):\n",
    "    '''shows info about pokemon number <number>, to ensure data is loaded properly.'''\n",
    "    pokeidx = number-1 if pokenumber else number #pokedata is 0-indexed\n",
    "    if showname: print('{:d}: {:s}'.format(number, pokedata[pokeidx,0]))\n",
    "    if labels is not None:\n",
    "        l = labels[pokeidx]\n",
    "        if np.isreal(l): print('type: ', l, ' (',i_to_type(l),')', sep='')\n",
    "        else: print('type:',l)\n",
    "    if images is not None: plt.imshow(images[pokeidx]); plt.show()"
   ]
  },
  {
   "cell_type": "markdown",
   "metadata": {},
   "source": [
    "### Set data & labels - next we will do machine learning!"
   ]
  },
  {
   "cell_type": "code",
   "execution_count": 8,
   "metadata": {},
   "outputs": [],
   "source": [
    "images = orderedimages\n",
    "labels = type_to_i(pokedata[:,1])   #for now, just use the pokemon's primary type."
   ]
  },
  {
   "cell_type": "code",
   "execution_count": 9,
   "metadata": {},
   "outputs": [
    {
     "name": "stdout",
     "output_type": "stream",
     "text": [
      "149: dragonite\n",
      "type: 2 (Dragon)\n"
     ]
    },
    {
     "data": {
      "image/png": "[encoded data removed]",
      "text/plain": [
       "<Figure size 100x100 with 1 Axes>"
      ]
     },
     "metadata": {
      "needs_background": "light"
     },
     "output_type": "display_data"
    }
   ],
   "source": [
    "inspect_poke(149, images, labels)"
   ]
  },
  {
   "cell_type": "markdown",
   "metadata": {},
   "source": [
    "## Single-type classification (the simplest problem)"
   ]
  },
  {
   "cell_type": "code",
   "execution_count": 10,
   "metadata": {},
   "outputs": [],
   "source": [
    "## let's first make a single-label neural network which only assigns one type per pokemon.\n",
    "# This is most similar to what we've done already.\n",
    "# I think it should just ignore the info about secondary types.\n",
    "\n",
    "# use: https://www.tensorflow.org/guide/data#reading_input_data to read inputs.\n"
   ]
  },
  {
   "cell_type": "code",
   "execution_count": 11,
   "metadata": {},
   "outputs": [],
   "source": [
    "import tensorflow as tf\n",
    "from tensorflow.keras import datasets, layers, models\n",
    "from sklearn.model_selection import train_test_split"
   ]
  },
  {
   "cell_type": "code",
   "execution_count": 12,
   "metadata": {},
   "outputs": [],
   "source": [
    "def splitdata(data, labels, val_size=0.2, test_size=0.1):\n",
    "    '''returns dict with train, val, test sets.\n",
    "    test_size = portion of data for test. val_size = portion of data for validation.'''\n",
    "    TS = val_size + test_size\n",
    "    TF = test_size/val_size\n",
    "    X_train, Xt, Y_train, Yt     = train_test_split(data, labels, test_size=TS, train_size=1.0-TS)\n",
    "    X_val, X_test, Y_val, Y_test = train_test_split(Xt,   Yt,     test_size=TF, train_size=1.0-TF)\n",
    "    return {'train': {'data':X_train, 'labels':Y_train},\n",
    "            'val'  : {'data':X_val,   'labels':Y_val  },\n",
    "            'test' : {'data':X_test,  'labels':Y_test }}"
   ]
  },
  {
   "cell_type": "code",
   "execution_count": 13,
   "metadata": {},
   "outputs": [
    {
     "name": "stdout",
     "output_type": "stream",
     "text": [
      "(566, 120, 120, 3)\n",
      "(121, 120, 120, 3)\n",
      "(122, 120, 120, 3)\n"
     ]
    }
   ],
   "source": [
    "dd = splitdata(images, labels, 0.2, 0.1)\n",
    "print(dd['train']['data'].shape)\n",
    "print(dd['val']['data'].shape)\n",
    "print(dd['test']['data'].shape)"
   ]
  },
  {
   "cell_type": "code",
   "execution_count": 14,
   "metadata": {},
   "outputs": [
    {
     "name": "stdout",
     "output_type": "stream",
     "text": [
      "type: 12 (Normal)\n"
     ]
    },
    {
     "data": {
      "image/png": "[encoded data removed]",
      "text/plain": [
       "<Figure size 100x100 with 1 Axes>"
      ]
     },
     "metadata": {
      "needs_background": "light"
     },
     "output_type": "display_data"
    },
    {
     "name": "stdout",
     "output_type": "stream",
     "text": [
      "type: 3 (Electric)\n"
     ]
    },
    {
     "data": {
      "image/png": "[encoded data removed]",
      "text/plain": [
       "<Figure size 100x100 with 1 Axes>"
      ]
     },
     "metadata": {
      "needs_background": "light"
     },
     "output_type": "display_data"
    }
   ],
   "source": [
    "## check that types are still aligned properly\n",
    "checkit = dd['val']\n",
    "for i in range(2): inspect_poke(i,checkit['data'],checkit['labels'],pokenumber=False,showname=False)"
   ]
  },
  {
   "cell_type": "markdown",
   "metadata": {},
   "source": [
    "### set up model"
   ]
  },
  {
   "cell_type": "code",
   "execution_count": 15,
   "metadata": {},
   "outputs": [
    {
     "name": "stdout",
     "output_type": "stream",
     "text": [
      "Model: \"sequential\"\n",
      "_________________________________________________________________\n",
      "Layer (type)                 Output Shape              Param #   \n",
      "=================================================================\n",
      "conv2d (Conv2D)              (None, 119, 119, 10)      130       \n",
      "_________________________________________________________________\n",
      "max_pooling2d (MaxPooling2D) (None, 39, 39, 10)        0         \n",
      "_________________________________________________________________\n",
      "conv2d_1 (Conv2D)            (None, 38, 38, 20)        820       \n",
      "_________________________________________________________________\n",
      "max_pooling2d_1 (MaxPooling2 (None, 19, 19, 20)        0         \n",
      "_________________________________________________________________\n",
      "conv2d_2 (Conv2D)            (None, 18, 18, 40)        3240      \n",
      "_________________________________________________________________\n",
      "max_pooling2d_2 (MaxPooling2 (None, 9, 9, 40)          0         \n",
      "_________________________________________________________________\n",
      "flatten (Flatten)            (None, 3240)              0         \n",
      "_________________________________________________________________\n",
      "dense (Dense)                (None, 100)               324100    \n",
      "_________________________________________________________________\n",
      "dense_1 (Dense)              (None, 18)                1818      \n",
      "=================================================================\n",
      "Total params: 330,108\n",
      "Trainable params: 330,108\n",
      "Non-trainable params: 0\n",
      "_________________________________________________________________\n"
     ]
    }
   ],
   "source": [
    "model = models.Sequential()\n",
    "model.add(layers.Conv2D(10, (2,2), activation='relu', input_shape=IMAGESHAPE))\n",
    "model.add(layers.MaxPooling2D((3, 3)))\n",
    "model.add(layers.Conv2D(20, (2,2), activation='relu'))\n",
    "model.add(layers.MaxPooling2D((2, 2)))\n",
    "model.add(layers.Conv2D(40, (2,2), activation='relu'))\n",
    "model.add(layers.MaxPooling2D((2, 2)))\n",
    "model.add(layers.Flatten())\n",
    "model.add(layers.Dense(100, activation='relu'))\n",
    "model.add(layers.Dense(NTYPES, activation='softmax'))\n",
    "\n",
    "\n",
    "model.compile(optimizer=tf.keras.optimizers.SGD(learning_rate=0.01, momentum=0.0, nesterov=False, name=\"SGD\"),\n",
    "              loss=tf.keras.losses.SparseCategoricalCrossentropy(from_logits=True),\n",
    "              metrics=['sparse_categorical_accuracy'])\n",
    "# model.compile(optimizer=tf.keras.optimizers.RMSprop(),\n",
    "#               loss=tf.keras.losses.SparseCategoricalCrossentropy(from_logits=True),\n",
    "#               metrics=['sparse_categorical_accuracy'])\n",
    "model.summary()"
   ]
  },
  {
   "cell_type": "code",
   "execution_count": 16,
   "metadata": {},
   "outputs": [
    {
     "name": "stdout",
     "output_type": "stream",
     "text": [
      "Epoch 1/3\n",
      "18/18 [==============================] - 1s 63ms/step - loss: 2.9168 - sparse_categorical_accuracy: 0.0636 - val_loss: 2.9320 - val_sparse_categorical_accuracy: 0.0496\n",
      "Epoch 2/3\n",
      "18/18 [==============================] - 1s 54ms/step - loss: 2.9179 - sparse_categorical_accuracy: 0.0636 - val_loss: 2.9320 - val_sparse_categorical_accuracy: 0.0496\n",
      "Epoch 3/3\n",
      "18/18 [==============================] - 1s 52ms/step - loss: 2.9179 - sparse_categorical_accuracy: 0.0636 - val_loss: 2.9320 - val_sparse_categorical_accuracy: 0.0496\n"
     ]
    },
    {
     "data": {
      "text/plain": [
       "<tensorflow.python.keras.callbacks.History at 0x14bcc4cd0>"
      ]
     },
     "execution_count": 16,
     "metadata": {},
     "output_type": "execute_result"
    }
   ],
   "source": [
    "model.fit(dd['train']['data'], dd['train']['labels'], validation_data=(dd['val']['data'], dd['val']['labels']),\n",
    "          epochs=3)\n",
    "#model.evaluate(dd['val']['data'], dd['val']['labels'])"
   ]
  },
  {
   "cell_type": "code",
   "execution_count": 17,
   "metadata": {},
   "outputs": [
    {
     "name": "stdout",
     "output_type": "stream",
     "text": [
      "prediction\n"
     ]
    },
    {
     "data": {
      "image/png": "[encoded data removed]",
      "text/plain": [
       "<Figure size 1000x300 with 1 Axes>"
      ]
     },
     "metadata": {
      "needs_background": "light"
     },
     "output_type": "display_data"
    },
    {
     "name": "stdout",
     "output_type": "stream",
     "text": [
      "sample\n"
     ]
    },
    {
     "data": {
      "image/png": "[encoded data removed]",
      "text/plain": [
       "<Figure size 1000x300 with 1 Axes>"
      ]
     },
     "metadata": {
      "needs_background": "light"
     },
     "output_type": "display_data"
    }
   ],
   "source": [
    "predictions = onehot_to_i(model.predict(dd['val']['data']))\n",
    "assert len(predictions)==len(dd['val']['data'])\n",
    "print('prediction')\n",
    "plt.figure(figsize=(10,3))\n",
    "bc_p = np.bincount(predictions, minlength=NTYPES+1)\n",
    "plt.bar(alltypes, bc_p);\n",
    "plt.show()\n",
    "print('sample')\n",
    "plt.figure(figsize=(10,3))\n",
    "bc_s = np.bincount(dd['val']['labels'], minlength=NTYPES+1)\n",
    "plt.bar(alltypes, bc_s);\n",
    "plt.show()"
   ]
  },
  {
   "cell_type": "markdown",
   "metadata": {},
   "source": [
    "Note for future... it seems the model is predicting only one label for each case (rather than a probability distribution), and seems to be labeling everything with the same type. Look into architecture/more stuff to help fuix this, next time."
   ]
  },
  {
   "cell_type": "code",
   "execution_count": 18,
   "metadata": {},
   "outputs": [
    {
     "name": "stdout",
     "output_type": "stream",
     "text": [
      "predicted: Rock\n",
      "type: 12 (Normal)\n"
     ]
    },
    {
     "data": {
      "image/png": "[encoded data removed]",
      "text/plain": [
       "<Figure size 100x100 with 1 Axes>"
      ]
     },
     "metadata": {
      "needs_background": "light"
     },
     "output_type": "display_data"
    },
    {
     "name": "stdout",
     "output_type": "stream",
     "text": [
      "predicted: Rock\n",
      "type: 3 (Electric)\n"
     ]
    },
    {
     "data": {
      "image/png": "[encoded data removed]",
      "text/plain": [
       "<Figure size 100x100 with 1 Axes>"
      ]
     },
     "metadata": {
      "needs_background": "light"
     },
     "output_type": "display_data"
    },
    {
     "name": "stdout",
     "output_type": "stream",
     "text": [
      "predicted: Rock\n",
      "type: 9 (Grass)\n"
     ]
    },
    {
     "data": {
      "image/png": "[encoded data removed]",
      "text/plain": [
       "<Figure size 100x100 with 1 Axes>"
      ]
     },
     "metadata": {
      "needs_background": "light"
     },
     "output_type": "display_data"
    }
   ],
   "source": [
    "N_examine = 3\n",
    "predicted = onehot_to_type(model.predict(dd['val']['data'][:N_examine]))\n",
    "for i in range(N_examine):\n",
    "    print('predicted:',predicted[i])\n",
    "    inspect_poke(i, dd['val']['data'], dd['val']['labels'], pokenumber=False, showname=False)"
   ]
  },
  {
   "cell_type": "code",
   "execution_count": 19,
   "metadata": {},
   "outputs": [],
   "source": [
    "''' this doesnt really do anything good apparently. (not needed for model.fit())\n",
    "train_dataset = tf.data.Dataset.from_tensor_slices((dd['train']['data'], dd['train']['labels']))\n",
    "val_dataset   = tf.data.Dataset.from_tensor_slices((dd['val']['data'],   dd['val']['labels']  ))\n",
    "test_dataset  = tf.data.Dataset.from_tensor_slices((dd['test']['data'],   dd['test']['labels']))\n",
    "#''';"
   ]
  },
  {
   "cell_type": "markdown",
   "metadata": {},
   "source": [
    "## Multi-label classification (a non-trivial generalization?)"
   ]
  },
  {
   "cell_type": "code",
   "execution_count": 20,
   "metadata": {},
   "outputs": [],
   "source": [
    "## We want to have images be assigned two labels (the second label possibly being 'None').\n",
    "# apparently this problem (of assigning multiple labels) is known more generally as 'Multi-label classification'.\n",
    "# it might be nontrivial.\n",
    "\n",
    "## Some thoughts:\n",
    "# - I think it will be cool to see if including two labels actually leads to improvements on accuracy...\n",
    "# - I feel like usually type1 and type2 are correlated (e.g. more likely to get a grass+poison poke than grass+fire).\n",
    "#    I wonder how we can incorporate these correlations, or if we should even incorporate them at all.\n",
    "#    Would a neural network be able to learn these correlations?"
   ]
  }
 ],
 "metadata": {
  "colab": {
   "authorship_tag": "ABX9TyO3PDCufbwDmZ4BFeEh5DPK",
   "include_colab_link": true,
   "name": "ProjectOAK.ipynb",
   "provenance": []
  },
  "kernelspec": {
   "display_name": "Python 3",
   "language": "python",
   "name": "python3"
  },
  "language_info": {
   "codemirror_mode": {
    "name": "ipython",
    "version": 3
   },
   "file_extension": ".py",
   "mimetype": "text/x-python",
   "name": "python",
   "nbconvert_exporter": "python",
   "pygments_lexer": "ipython3",
   "version": "3.7.6"
  }
 },
 "nbformat": 4,
 "nbformat_minor": 4
}
